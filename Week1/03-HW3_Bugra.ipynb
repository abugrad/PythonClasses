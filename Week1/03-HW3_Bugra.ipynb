{
 "cells": [
  {
   "cell_type": "markdown",
   "id": "bfb71530-eb63-4a5e-b621-f07eaf42f9ce",
   "metadata": {},
   "source": [
    "Q1: In the code, we are calling two functions, greet() and say_goodbye().\n",
    "\n",
    "- The greet() function is already defined but it has a bug. It should print \"Hello, World!\".\n",
    "- The say_goodbye() function is not defined. Define it so that it prints \"Goodbye, World!\"."
   ]
  },
  {
   "cell_type": "code",
   "execution_count": 1,
   "id": "1ea6aa4d-9282-4318-8872-d6ef5d18278c",
   "metadata": {},
   "outputs": [
    {
     "name": "stdout",
     "output_type": "stream",
     "text": [
      "Hello, World!\n",
      "Goodbye, World!\n"
     ]
    }
   ],
   "source": [
    "def greet():\n",
    "    print(\"Hello, World!\")\n",
    "\n",
    "def say_goodbye():\n",
    "    print( \"Goodbye, World!\")\n",
    "\n",
    "# don't modify below this line\n",
    "greet()\n",
    "say_goodbye()"
   ]
  },
  {
   "cell_type": "markdown",
   "id": "a0529f6e-7125-4d0d-baa7-d2175b7c6761",
   "metadata": {},
   "source": [
    "Q2: There is a bug in the code below. Can you fix it so that the output is:\n",
    "\n",
    "```\n",
    "\n",
    "10\n",
    "\n",
    "20\n",
    "\n",
    "```"
   ]
  },
  {
   "cell_type": "code",
   "execution_count": 3,
   "id": "6cf7c778-c093-4e4b-a4d2-98f776752d5b",
   "metadata": {},
   "outputs": [
    {
     "name": "stdout",
     "output_type": "stream",
     "text": [
      "10\n",
      "20\n"
     ]
    }
   ],
   "source": [
    "def print_number(k):\n",
    "     print(k)\n",
    "    \n",
    "print_number(10)\n",
    "\n",
    "print_number(20)"
   ]
  },
  {
   "cell_type": "markdown",
   "id": "928f9aaf-b5c1-4d9c-97eb-19cd5c8c070e",
   "metadata": {},
   "source": [
    "Q3: n the code, define a function called farewell, which takes a single parameter. The function should print \"Goodbye, \" followed by the parameter. Then use this function so that the output is:\n",
    "\n",
    "```\n",
    "\n",
    "Goodbye, Bob\n",
    "\n",
    "Goodbye, Charlie\n",
    "\n",
    "Goodbye, Lisa\n",
    "\n",
    "```"
   ]
  },
  {
   "cell_type": "code",
   "execution_count": 7,
   "id": "ee47b876-4e76-40e2-b88c-c4c5ec28178f",
   "metadata": {},
   "outputs": [
    {
     "name": "stdout",
     "output_type": "stream",
     "text": [
      "Goodbye, Bob\n",
      "Goodbye, Charlie\n",
      "Goodbye, Lisa\n"
     ]
    }
   ],
   "source": [
    "def farewell(str):\n",
    "    print(\"Goodbye, \" + str)\n",
    "\n",
    "farewell(\"Bob\")\n",
    "farewell(\"Charlie\")\n",
    "\n",
    "\n",
    "# don't modify below this line\n",
    "farewell(\"Lisa\")"
   ]
  },
  {
   "cell_type": "markdown",
   "id": "9b180cd2-610d-4b6e-884a-adb15f21920b",
   "metadata": {},
   "source": [
    "Q4: In the code, define two functions, two_sum, and three_sum. The two_sum  function should take two parameters and print their sum. The three_sum function should take three parameters and print their sum.\n",
    "Finally, call two_sum with the arguments 7, 10 and after that call three_sum with the arguments 3, 5, 8."
   ]
  },
  {
   "cell_type": "code",
   "execution_count": 15,
   "id": "531adc5a-c425-4c1f-a727-7cc99832bf0c",
   "metadata": {},
   "outputs": [
    {
     "name": "stdout",
     "output_type": "stream",
     "text": [
      "17\n",
      "16\n",
      "19\n",
      "25\n"
     ]
    }
   ],
   "source": [
    "def two_sum(x, y):\n",
    "    print(x+y)\n",
    "\n",
    "def three_sum(x, y, z):\n",
    "    print(x+y+z)\n",
    "\n",
    "two_sum(7, 10)\n",
    "three_sum(3, 5, 8)\n",
    "\n",
    "# do not modify below this line\n",
    "two_sum(10, 9)\n",
    "three_sum(5, 14, 6)"
   ]
  },
  {
   "cell_type": "markdown",
   "id": "cae35427-ef30-446b-9e98-29dcc439abab",
   "metadata": {},
   "source": [
    "Q5: In the code create a function named product that accepts two parameters and returns their product."
   ]
  },
  {
   "cell_type": "code",
   "execution_count": 17,
   "id": "f8989129-9ea0-4011-9d0f-d0ce04ceac6c",
   "metadata": {},
   "outputs": [
    {
     "name": "stdout",
     "output_type": "stream",
     "text": [
      "8\n",
      "16\n",
      "32\n",
      "64\n"
     ]
    }
   ],
   "source": [
    "def product(x,y):\n",
    "    return x * y\n",
    "\n",
    "# don't modify below this line\n",
    "print(product(2, 4))\n",
    "print(product(8, 2))\n",
    "print(product(4, 8))\n",
    "print(product(8, 8))"
   ]
  },
  {
   "cell_type": "markdown",
   "id": "19c44087-dab7-4771-80f4-a3239ec88546",
   "metadata": {},
   "source": [
    "Q6: In the code, call the function greet with the argument \"Lisa\". Then print the type of the return value of the function.\n",
    "\n",
    "Hint: You can get the type of a value with the type() function."
   ]
  },
  {
   "cell_type": "code",
   "execution_count": 23,
   "id": "c160801d-3a88-4425-b2fe-4746e57ce8c4",
   "metadata": {},
   "outputs": [
    {
     "name": "stdout",
     "output_type": "stream",
     "text": [
      "Hello, Lisa\n",
      "<class 'NoneType'>\n"
     ]
    }
   ],
   "source": [
    "def greet(name) :\n",
    "\n",
    "     print(\"Hello, \" + name)\n",
    "\n",
    "print(type(greet(\"Lisa\")))"
   ]
  },
  {
   "cell_type": "markdown",
   "id": "c8665f62-46bb-4435-9d5e-dbe7916ccc22",
   "metadata": {},
   "source": [
    "Q7: To prove that the variable k inside the function is different than the one outside, consider this code:\n",
    "\n",
    "```\n",
    "\n",
    "def add_one(k):\n",
    "\n",
    "    k = k + 1\n",
    "\n",
    "     print(k)   \n",
    "\n",
    "k = 10\n",
    "\n",
    "add_one(k)    # Output: 11\n",
    "\n",
    "print(k)       # Output: ?\n",
    "\n",
    "```\n",
    "\n",
    "What do you think the output of the last print statement will be? Will it be 10 or 11? Run the code  to find out.\n",
    "\n"
   ]
  },
  {
   "cell_type": "code",
   "execution_count": 27,
   "id": "60545600-0a07-464b-a6b1-1e07471a9d57",
   "metadata": {},
   "outputs": [
    {
     "name": "stdout",
     "output_type": "stream",
     "text": [
      "11\n",
      "10\n"
     ]
    }
   ],
   "source": [
    "def add_one(k):\n",
    "\n",
    "    k = k + 1\n",
    "    print(k)   \n",
    "\n",
    "k = 10\n",
    "\n",
    "add_one(k)\n",
    "\n",
    "print(k)"
   ]
  },
  {
   "cell_type": "markdown",
   "id": "05914842-e37f-499c-8b32-931a4923e7cc",
   "metadata": {},
   "source": [
    "Q8: There's a bug in the code below, if you try to run it you'll see a NameError. Can you fix it so that the output is:\n",
    "\n",
    "```\n",
    "\n",
    "100\n",
    "\n",
    "100\n",
    "\n",
    "```"
   ]
  },
  {
   "cell_type": "code",
   "execution_count": 31,
   "id": "1e2b098f-cbfd-414e-9d61-1f525f449411",
   "metadata": {},
   "outputs": [
    {
     "name": "stdout",
     "output_type": "stream",
     "text": [
      "100\n",
      "100\n"
     ]
    }
   ],
   "source": [
    "k = 100\n",
    "\n",
    "\n",
    "def print_local_variable(num) :\n",
    "    print(num)\n",
    "\n",
    "print_local_variable(k)\n",
    "\n",
    "print(k)"
   ]
  },
  {
   "cell_type": "markdown",
   "id": "bc794b0c-786a-41bc-85b7-32b5b1a9d2d5",
   "metadata": {},
   "source": [
    "Q9: In the code below, update the function greet() so that the second parameter has a default value of \"!\"."
   ]
  },
  {
   "cell_type": "code",
   "execution_count": 33,
   "id": "06b8464d-a132-47b1-ba4d-70e206feb130",
   "metadata": {},
   "outputs": [
    {
     "name": "stdout",
     "output_type": "stream",
     "text": [
      "Hello, World!\n",
      "Hello, World!\n"
     ]
    }
   ],
   "source": [
    "def greet(name, punctuation = \"!\") :\n",
    "    print(\"Hello, \" + name + punctuation)\n",
    "\n",
    "greet(\"World\", \"!\")\n",
    "greet(\"World\")"
   ]
  }
 ],
 "metadata": {
  "kernelspec": {
   "display_name": "anaconda-panel-2023.05-py310",
   "language": "python",
   "name": "conda-env-anaconda-panel-2023.05-py310-py"
  },
  "language_info": {
   "codemirror_mode": {
    "name": "ipython",
    "version": 3
   },
   "file_extension": ".py",
   "mimetype": "text/x-python",
   "name": "python",
   "nbconvert_exporter": "python",
   "pygments_lexer": "ipython3",
   "version": "3.11.5"
  }
 },
 "nbformat": 4,
 "nbformat_minor": 5
}
