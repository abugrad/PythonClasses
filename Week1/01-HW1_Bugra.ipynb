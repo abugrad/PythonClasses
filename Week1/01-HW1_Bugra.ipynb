{
 "cells": [
  {
   "cell_type": "markdown",
   "id": "a9bda8a0-7544-4f94-8000-25b90e127f44",
   "metadata": {},
   "source": [
    "Q1: Update the code below so that it prints this string is stored in a variable to the console twice. You should be able to accomplish this by only adding one line of code in the place of ????.\n"
   ]
  },
  {
   "cell_type": "code",
   "execution_count": 9,
   "id": "58c42319-9b8b-4f3e-aae9-0a7de34fbfd9",
   "metadata": {},
   "outputs": [
    {
     "name": "stdout",
     "output_type": "stream",
     "text": [
      "Hellop World!\n",
      "Hellop World!\n"
     ]
    }
   ],
   "source": [
    "message = \"Hellop World!\";\n",
    "\n",
    "# don't modify the code below this line\n",
    "print(message)\n",
    "print(message)"
   ]
  },
  {
   "cell_type": "markdown",
   "id": "0e161a42-0335-4707-907e-cc7aa21a6ea4",
   "metadata": {},
   "source": [
    "Q2: You are given some incomplete code below. It should print the capitals of Spain, France and Germany, in that order. Try to use some descriptive variable names to complete the code. "
   ]
  },
  {
   "cell_type": "code",
   "execution_count": 19,
   "id": "e69a8ce7-2680-4a10-befe-1d70bfcd18c0",
   "metadata": {},
   "outputs": [
    {
     "name": "stdout",
     "output_type": "stream",
     "text": [
      "Madrid\n",
      "Paris\n",
      "Berlin\n"
     ]
    }
   ],
   "source": [
    "capital_of_spain = \"Madrid\";\n",
    "capital_of_france = \"Paris\";\n",
    "capital_of_germany = \"Berlin\";\n",
    "\n",
    "print(capital_of_spain);\n",
    "print(capital_of_france);\n",
    "print(capital_of_germany);\n"
   ]
  },
  {
   "cell_type": "markdown",
   "id": "1e03ed31-75eb-44ac-aaba-ddbf551ac885",
   "metadata": {},
   "source": [
    "Q3:  Can you add a single line of code below to print the following output:\n",
    "```\n",
    "The first message\n",
    "The second message\n",
    "The third message\n",
    "```"
   ]
  },
  {
   "cell_type": "code",
   "execution_count": 21,
   "id": "7babd71b-0ca1-43b2-813e-6adf137260db",
   "metadata": {},
   "outputs": [
    {
     "name": "stdout",
     "output_type": "stream",
     "text": [
      "The first message\n",
      "The second message\n",
      "The third message\n"
     ]
    }
   ],
   "source": [
    "message = \"The first message\"\n",
    "\n",
    "print(message)\n",
    "\n",
    "message = \"The second message\"\n",
    "\n",
    "print(message)\n",
    "\n",
    "message = \"The third message\"\n",
    "\n",
    "print(message)"
   ]
  },
  {
   "cell_type": "markdown",
   "id": "d8e37a68-7c8f-49e1-ad54-52d59eb975c2",
   "metadata": {},
   "source": [
    "Q4: Update the code below so that it prints the following. If you take advantage of multiple assignments, you can accomplish this with one or two lines of code.\n",
    "\n",
    "```\n",
    "Hello\n",
    "\n",
    "World\n",
    "\n",
    "My\n",
    "\n",
    "Name\n",
    "\n",
    "Is\n",
    "\n",
    "```"
   ]
  },
  {
   "cell_type": "code",
   "execution_count": 29,
   "id": "d3f439d4-7f56-4f85-aa65-b8c34c470265",
   "metadata": {},
   "outputs": [
    {
     "name": "stdout",
     "output_type": "stream",
     "text": [
      "Hello\n",
      "World\n",
      "My\n",
      "Name\n",
      "Is\n"
     ]
    }
   ],
   "source": [
    "msg1, msg2 = \"World\", \"Hello\"\n",
    "msg3, msg4, msg5 = \"Name\", \"Is\", \"My\"\n",
    "# Don't change the code above this line\n",
    "msg1, msg2 = msg2, msg1;\n",
    "\n",
    "msg3, msg4, msg5 = msg5, msg3, msg4;\n",
    "\n",
    "# Don't change the code below this line\n",
    "print(msg1)\n",
    "print(msg2)\n",
    "print(msg3)\n",
    "print(msg4)\n",
    "print(msg5)"
   ]
  },
  {
   "cell_type": "markdown",
   "id": "4ca0ab50-92bd-4688-b637-b813a7ea01f7",
   "metadata": {
    "tags": []
   },
   "source": [
    "Q5: Update the code below so that the output is:\n",
    "\n",
    "```\n",
    "\n",
    "<class 'int'>\n",
    "\n",
    "<class 'float'>\n",
    "\n",
    "<class 'bool'>\n",
    "\n",
    "<class 'str'>\n",
    "\n",
    "<class 'list'>\n",
    "\n",
    "```"
   ]
  },
  {
   "cell_type": "code",
   "execution_count": 33,
   "id": "fad691dc-724d-497d-b043-8bd3391f9d5f",
   "metadata": {},
   "outputs": [
    {
     "name": "stdout",
     "output_type": "stream",
     "text": [
      "<class 'int'>\n",
      "<class 'float'>\n",
      "<class 'bool'>\n",
      "<class 'str'>\n",
      "<class 'list'>\n"
     ]
    }
   ],
   "source": [
    "integer_type = 1;\n",
    "float_type = 1.1;\n",
    "bool_type = True;\n",
    "string_type = \"Hello\";\n",
    "list_type = [1,2,3];\n",
    "\n",
    "print(type(integer_type))\n",
    "print(type(float_type))\n",
    "print(type(bool_type))\n",
    "print(type(string_type))\n",
    "print(type(list_type))\n"
   ]
  },
  {
   "cell_type": "markdown",
   "id": "40c9b2ab-2835-4656-9013-fd806e562a65",
   "metadata": {},
   "source": [
    "Q6: Update the code below using type casting so that the output is:\n",
    "\n",
    "```\n",
    "\n",
    "3\n",
    "\n",
    "2\n",
    "\n",
    "```"
   ]
  },
  {
   "cell_type": "code",
   "execution_count": 37,
   "id": "b3988526-fe63-48c0-8215-18e83d4e7678",
   "metadata": {},
   "outputs": [
    {
     "name": "stdout",
     "output_type": "stream",
     "text": [
      "3\n",
      "2\n"
     ]
    }
   ],
   "source": [
    "pi = 3.141592653589793\n",
    "square_root_8 = 2.8284271247461903\n",
    "# Do not modify above this line\n",
    "pi = int(pi)\n",
    "square_root_8 = int(square_root_8)\n",
    "\n",
    "\n",
    "# Do not modify below this line\n",
    "print(pi)\n",
    "print(square_root_8)\n"
   ]
  },
  {
   "cell_type": "markdown",
   "id": "f1da80a5-131d-46e9-8fd6-37fef34b28a6",
   "metadata": {},
   "source": [
    "Q7: The code below will currently throw a type error (you can run it to confirm). Can you find the bug and fix it so the output is:\n",
    "```\n",
    "\n",
    "10\n",
    "\n",
    "<class 'str'>\n",
    "\n",
    "10\n",
    "\n",
    "<class 'int'>\n",
    "\n",
    "```"
   ]
  },
  {
   "cell_type": "code",
   "execution_count": 41,
   "id": "46f30ef2-372b-48a9-b49e-1969a94757ed",
   "metadata": {},
   "outputs": [
    {
     "name": "stdout",
     "output_type": "stream",
     "text": [
      "10\n",
      "<class 'str'>\n",
      "10\n",
      "<class 'int'>\n"
     ]
    }
   ],
   "source": [
    "variable = \"10\"\n",
    "\n",
    "\n",
    "\n",
    "# Don't modify the code below this line\n",
    "print(variable)\n",
    "print(type(variable))\n",
    "\n",
    "variable = int(variable)\n",
    "\n",
    "print(variable)\n",
    "print(type(variable))\n"
   ]
  },
  {
   "cell_type": "markdown",
   "id": "be5d7356-7905-4266-af21-4cb7457a1364",
   "metadata": {},
   "source": [
    "Q8: Declare a variable and assign it to None, then print the type of it."
   ]
  },
  {
   "cell_type": "code",
   "execution_count": 47,
   "id": "59cb6d24-6650-41b1-82be-87f7b5734c72",
   "metadata": {},
   "outputs": [
    {
     "name": "stdout",
     "output_type": "stream",
     "text": [
      "None\n"
     ]
    }
   ],
   "source": [
    "var = None;\n",
    "\n",
    "print(var)"
   ]
  }
 ],
 "metadata": {
  "kernelspec": {
   "display_name": "Python 3 (ipykernel)",
   "language": "python",
   "name": "python3"
  },
  "language_info": {
   "codemirror_mode": {
    "name": "ipython",
    "version": 3
   },
   "file_extension": ".py",
   "mimetype": "text/x-python",
   "name": "python",
   "nbconvert_exporter": "python",
   "pygments_lexer": "ipython3",
   "version": "3.12.4"
  }
 },
 "nbformat": 4,
 "nbformat_minor": 5
}
