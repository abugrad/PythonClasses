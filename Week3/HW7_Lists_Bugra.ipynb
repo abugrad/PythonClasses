{
 "cells": [
  {
   "cell_type": "markdown",
   "id": "3fe2bbea-e66a-4fe2-9358-be2ccc810b53",
   "metadata": {},
   "source": [
    "**Q1** If my_list=[1, 7, 5, 4, 3, 2]. Print the following\\\n",
    "in the order given (each on a separate line):\n",
    "\n",
    "- The second element in the list.\n",
    "- The third element in the list.\n",
    "- The first element in the list.\n",
    "- The length of the list."
   ]
  },
  {
   "cell_type": "code",
   "execution_count": 6,
   "id": "9fb83bd4-c802-4566-b03f-20515ad2424d",
   "metadata": {},
   "outputs": [
    {
     "name": "stdout",
     "output_type": "stream",
     "text": [
      "7\n",
      "5\n",
      "1\n",
      "6\n"
     ]
    }
   ],
   "source": [
    "my_list=[1, 7, 5, 4, 3, 2]\n",
    "\n",
    "print(my_list[1])\n",
    "print(my_list[2])\n",
    "print(my_list[0])\n",
    "print(len(my_list))"
   ]
  },
  {
   "cell_type": "markdown",
   "id": "54d963e4-7a63-4ed1-b033-3bfec54b0151",
   "metadata": {},
   "source": [
    "**Q2** Implement the following two functions:\n",
    "\n",
    "`check_list_empty(my_list)` should\\\n",
    "return a boolean representing whether the\\\n",
    "list is empty or not.\n",
    "\n",
    "`check_element_in_list(my_list, element)` should\\\n",
    "return a boolean representing whether the element\\\n",
    "is present in the list or not. The list may contain\\\n",
    "integers or strings."
   ]
  },
  {
   "cell_type": "code",
   "execution_count": 28,
   "id": "28600e8f-6e36-494e-8db3-e221c55eab17",
   "metadata": {},
   "outputs": [
    {
     "name": "stdout",
     "output_type": "stream",
     "text": [
      "False\n"
     ]
    }
   ],
   "source": [
    "def check_list_empty(my_list):\n",
    "    if my_list:\n",
    "        return True\n",
    "    else:\n",
    "        return False\n",
    "\n",
    "check_list_empty([])\n",
    "\n",
    "def check_element_in_list(my_list, element):\n",
    "    if element in my_list:\n",
    "        return True;\n",
    "    else:\n",
    "        return False;\n",
    "\n",
    "print(check_element_in_list([1, 2, 3, 4], \"1\"))"
   ]
  },
  {
   "cell_type": "markdown",
   "id": "d03b810b-60ce-4eba-a2b7-b0b485ceaedb",
   "metadata": {},
   "source": [
    "**Q3** Implement the function `count_x(nums, x)`. It accepts\\\n",
    "a list of integers nums and an integer x. The function\\\n",
    "should return the number of times the integer `x` \\\n",
    "appears in the list `nums`."
   ]
  },
  {
   "cell_type": "code",
   "execution_count": 42,
   "id": "f35e2169-3f5d-4b62-8087-0ebf6390eec7",
   "metadata": {},
   "outputs": [
    {
     "name": "stdout",
     "output_type": "stream",
     "text": [
      "3\n",
      "3\n"
     ]
    }
   ],
   "source": [
    "def count_x(nums, x):\n",
    "    count = 0\n",
    "    for i in nums:\n",
    "        if i == x:\n",
    "            count += 1\n",
    "    return count\n",
    "\n",
    "def count_x_short(nums, x):\n",
    "    return nums.count(x)\n",
    "\n",
    "print(count_x([1, 2, 3, 4, 5, 6, 1, 1, 2], 1))\n",
    "print(count_x_short([1, 2, 3, 4, 5, 6, 1, 1, 2], 1))"
   ]
  },
  {
   "cell_type": "markdown",
   "id": "1edb403d-bf05-4a89-95dc-3e431801612d",
   "metadata": {},
   "source": [
    "**Q4** Implement the following functions below:\n",
    "\n",
    "- `get_sum(my_list)` should return the sum of\\\n",
    "  all the elements in the list.\n",
    "- `get_min(my_list)` should return the smallest\\\n",
    "  element in the list.\n",
    "- `get_max(my_list)` should return the largest\\\n",
    "  element in the list.\n",
    "  \n",
    "You may assume the list passed in will always\\\n",
    "have at least one element.\n",
    "\n",
    "If you want a challenge, try to implement these\\\n",
    "functions without using the built-in `sum()`, \\\n",
    "`min()`, and `max()` functions. Instead, you can\\\n",
    "use a loop to iterate through the list and keep\\\n",
    "track of the sum, minimum, and maximum."
   ]
  },
  {
   "cell_type": "code",
   "execution_count": 46,
   "id": "2eb200c1-cbfe-402d-bfcc-50089046049a",
   "metadata": {},
   "outputs": [
    {
     "name": "stdout",
     "output_type": "stream",
     "text": [
      "15\n",
      "20\n",
      "3\n",
      "4\n",
      "7\n",
      "6\n"
     ]
    }
   ],
   "source": [
    "#your code here\n",
    "def get_sum(my_list):\n",
    "    return sum(my_list)\n",
    "\n",
    "def get_min(my_list):\n",
    "    return min(my_list)\n",
    "def get_max(my_list):\n",
    "    return max(my_list)\n",
    "    \n",
    "# do not modify below this line\n",
    "print(get_sum([1, 2, 3, 4, 5]))\n",
    "print(get_sum([5, 4, 5, 6]))\n",
    "\n",
    "print(get_min([7, 3, 4, 5]))\n",
    "print(get_min([5, 4, 5, 6]))\n",
    "\n",
    "print(get_max([7, 3, 4, 5]))\n",
    "print(get_max([5, 4, 5, 6]))\n"
   ]
  },
  {
   "cell_type": "markdown",
   "id": "9164416a-5801-4e9f-9556-3044d7c3e118",
   "metadata": {},
   "source": [
    "**Q5** Implement a function called `append_to_list(my_list, elements)`.\\\n",
    "It should append each number from elements to the end of\\\n",
    "`my_list` and return the modified list."
   ]
  },
  {
   "cell_type": "code",
   "execution_count": 48,
   "id": "8a9dcdfc-a37f-4995-a07a-373ce4ce51d5",
   "metadata": {},
   "outputs": [
    {
     "name": "stdout",
     "output_type": "stream",
     "text": [
      "[1, 2, 3, 4, 5]\n",
      "[1, 2, 3, 4]\n"
     ]
    }
   ],
   "source": [
    "#your code here\n",
    "def append_to_list(my_list, elements):\n",
    "    for i in elements:\n",
    "        my_list.append(i)\n",
    "    return my_list\n",
    "\n",
    "# do not modify below this line\n",
    "print(append_to_list([1, 2, 3], [4, 5]))\n",
    "print(append_to_list([], [1, 2, 3, 4]))"
   ]
  },
  {
   "cell_type": "markdown",
   "id": "0f13579f-488f-4a44-82a5-c5b5b14ee84c",
   "metadata": {},
   "source": [
    "**Q6** Implement the following two functions:\n",
    "\n",
    "- `remove_from_list(my_list, index)`. It should remove the element\\\n",
    "  at the given index from `my_list` and return the modified list.\n",
    "- `pop_n_from_list(my_list, n)`. It should pop the last `n` elements\\\n",
    "  from `my_list` and return the modified list.\n",
    "  \n",
    "You may assume that the index given to `remove_from_list`\\\n",
    "will always be valid (i.e., it will be within the\\\n",
    "bounds of the list).\\\n",
    "You may also assume that the number of elements to pop from the list\\\n",
    "in `pop_n_from_list` will always be less than or equal to the length of the list."
   ]
  },
  {
   "cell_type": "code",
   "execution_count": 60,
   "id": "38be736c-b06c-4f3d-806b-f7d5c5c5cb0b",
   "metadata": {},
   "outputs": [
    {
     "name": "stdout",
     "output_type": "stream",
     "text": [
      "[1, 2, 4, 5]\n",
      "[2, 3, 4, 5]\n",
      "[1, 2, 3, 4]\n",
      "[1, 2, 3]\n",
      "[1, 2, 3, 4, 5]\n",
      "[]\n"
     ]
    }
   ],
   "source": [
    "#your code here\n",
    "def remove_from_list(my_list, index):\n",
    "    my_list.pop(index)\n",
    "    return my_list\n",
    "    \n",
    "def pop_n_from_list(my_list, n):\n",
    "    for i in range (n):\n",
    "        my_list.pop()\n",
    "    return my_list\n",
    "\n",
    "# don't modify below this line\n",
    "print(remove_from_list([1, 2, 3, 4, 5], 2))\n",
    "print(remove_from_list([1, 2, 3, 4, 5], 0))\n",
    "print(remove_from_list([1, 2, 3, 4, 5], 4))\n",
    "\n",
    "print(pop_n_from_list([1, 2, 3, 4, 5], 2))\n",
    "print(pop_n_from_list([1, 2, 3, 4, 5], 0))\n",
    "print(pop_n_from_list([1, 2, 3, 4, 5], 5))"
   ]
  },
  {
   "cell_type": "markdown",
   "id": "7b95c430-75f3-4189-ad13-23ebf61da8d2",
   "metadata": {},
   "source": [
    "**Q7** Implement the `find_index(nums, target)` function. It\\\n",
    "should return the index of the first occurrence of the target number\\\n",
    "in the list. You may assume that the target number will always\\\n",
    "be present in the list.\n",
    "\n",
    "If you want a challenge, try to implement the function without\\\n",
    "using the built-in `index()` method."
   ]
  },
  {
   "cell_type": "code",
   "execution_count": 62,
   "id": "79070742-c1ec-4590-8542-c3ab9d96c92e",
   "metadata": {},
   "outputs": [
    {
     "name": "stdout",
     "output_type": "stream",
     "text": [
      "2\n",
      "2\n",
      "0\n",
      "3\n"
     ]
    }
   ],
   "source": [
    "def find_index(nums, target):\n",
    "    return nums.index(target)\n",
    "#Write your code here\n",
    "\n",
    "# don't modify code below this line\n",
    "print(find_index([1, 2, 3, 4, 5], 3))\n",
    "print(find_index([1, 2, 3, 4, 5, 3], 3))\n",
    "print(find_index([1, 2, 3, 4], 1))\n",
    "print(find_index([1, 3, 4, 2], 2))\n"
   ]
  },
  {
   "cell_type": "markdown",
   "id": "6393d8c2-8da7-4a68-87b8-45d8ca8b9277",
   "metadata": {},
   "source": [
    "**Q8** Implement the function `get_last_three_elements(my_list)`.\\\n",
    "It should return a list containing the last three elements\\\n",
    "of `my_list`. You may assume that the length of\\\n",
    "`my_list` will always be at least three."
   ]
  },
  {
   "cell_type": "code",
   "execution_count": 74,
   "id": "12469f82-8ecf-4bed-bef6-f5e33a0407f1",
   "metadata": {},
   "outputs": [
    {
     "name": "stdout",
     "output_type": "stream",
     "text": [
      "[1, 2, 3]\n",
      "[3, 4, 5]\n",
      "[7, 8, 9]\n"
     ]
    }
   ],
   "source": [
    "#your code here\n",
    "#def get_last_three_elements(my_list):\n",
    "#    my_new_list = []\n",
    "#    for i in range(3,0,-1):\n",
    "#        my_new_list.append(my_list[-i])\n",
    "#    return my_new_list\n",
    "\n",
    "def get_last_three_elemts(my_list):\n",
    "    return my_list[-3:]\n",
    "\n",
    "\n",
    "# do not modify below this line\n",
    "print(get_last_three_elements([1, 2, 3]))\n",
    "print(get_last_three_elements([1, 2, 3, 4, 5]))\n",
    "print(get_last_three_elements([1, 2, 3, 4, 5, 6, 7, 8, 9]))\n"
   ]
  },
  {
   "cell_type": "markdown",
   "id": "58340c36-3bb1-4b76-9b6f-347173e4ff00",
   "metadata": {},
   "source": [
    "**Q9** Implement a function `create_pair(name, age)`, which\\\n",
    "should combine the `name` and `age` parameters into a tuple\\\n",
    "and return it. The tuple should contain the `name` as\\\n",
    "the first element and the `age` as the second element."
   ]
  },
  {
   "cell_type": "code",
   "execution_count": 78,
   "id": "b44848f2-9590-4ba0-9c1f-fb44a63446aa",
   "metadata": {},
   "outputs": [
    {
     "name": "stdout",
     "output_type": "stream",
     "text": [
      "('Alice', 25)\n",
      "('Bob', 30)\n",
      "('Charlie', 35)\n"
     ]
    }
   ],
   "source": [
    "#Your Code here\n",
    "def create_pair(name, age):\n",
    "    my_tuple = (name, age)\n",
    "    return my_tuple\n",
    "    \n",
    "# do not modify code below this line\n",
    "print(create_pair(\"Alice\", 25))\n",
    "print(create_pair(\"Bob\", 30))\n",
    "print(create_pair(\"Charlie\", 35))"
   ]
  }
 ],
 "metadata": {
  "kernelspec": {
   "display_name": "Python 3 (ipykernel)",
   "language": "python",
   "name": "python3"
  },
  "language_info": {
   "codemirror_mode": {
    "name": "ipython",
    "version": 3
   },
   "file_extension": ".py",
   "mimetype": "text/x-python",
   "name": "python",
   "nbconvert_exporter": "python",
   "pygments_lexer": "ipython3",
   "version": "3.12.4"
  }
 },
 "nbformat": 4,
 "nbformat_minor": 5
}
