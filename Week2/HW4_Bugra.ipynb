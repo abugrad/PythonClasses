{
 "cells": [
  {
   "cell_type": "markdown",
   "id": "b6249847-cddc-4576-be24-317bbbbb40a9",
   "metadata": {},
   "source": [
    "**Q1** Implement the six functions defined in the code editor.\n",
    "\n",
    "- check_equal(x, y) should return whether x is equal to y.\n",
    "- check_not_equal(x, y) should return whether x is not equal to y.\n",
    "- check_less_than(x, y) should return whether x is less than y.\n",
    "- check_greater_than(x, y) should return whether x is greater than y.\n",
    "- check_less_than_or_equal(x, y) should return whether x is less than or equal to y.\n",
    "- check_greater_than_or_equal(x, y) should return whether x is greater than or equal to y.\n",
    "\n",
    "You may assume your functions will only receive integers as input.\n",
    "\n"
   ]
  },
  {
   "cell_type": "code",
   "execution_count": 14,
   "id": "cc388a00-6b7c-417b-b629-b9db050a93a5",
   "metadata": {},
   "outputs": [
    {
     "name": "stdout",
     "output_type": "stream",
     "text": [
      "check equal: False\n",
      "check not equal: True\n",
      " check_less_than_or_equal: True\n"
     ]
    }
   ],
   "source": [
    "def check_equal(x,y):\n",
    "    return x==y\n",
    "\n",
    "def check_not_equal(x,y):\n",
    "    return x!=y\n",
    "\n",
    "def check_less_than(x, y):\n",
    "    return x<y\n",
    "\n",
    "def check_greater_than(x, y):\n",
    "    return x>y\n",
    "\n",
    "def check_less_than_or_equal(x, y):\n",
    "    return x<=y;\n",
    "\n",
    "def check_greater_than_or_equal(x, y):\n",
    "    return x>=y;\n",
    "\n",
    "print(\"check equal: \" + str(check_equal(7,5)))\n",
    "print(\"check not equal: \" + str(check_not_equal(7,5)))\n",
    "print(\" check_less_than_or_equal: \" + str(check_less_than_or_equal(4,5)))\n",
    "\n"
   ]
  },
  {
   "cell_type": "markdown",
   "id": "8ede5e9b-619d-4490-821b-72d91f37c8fd",
   "metadata": {},
   "source": [
    "**Q2** Implement the `is_balance_low(balance)` function.\\\n",
    "If the balance is less than or equal to 100, it should\\\n",
    "print `\"Warning: Low balance.\"`. Otherwise, it should not print anything."
   ]
  },
  {
   "cell_type": "code",
   "execution_count": 32,
   "id": "e52c7e92-a2a4-4598-abf4-05cb2c6600b8",
   "metadata": {},
   "outputs": [
    {
     "name": "stdout",
     "output_type": "stream",
     "text": [
      "Warning: Low balance.\n"
     ]
    }
   ],
   "source": [
    "def is_balance_low(balance):\n",
    "    if(balance <= 100):\n",
    "        return \"Warning: Low balance.\"\n",
    "\n",
    "print(is_balance_low(100))"
   ]
  },
  {
   "cell_type": "markdown",
   "id": "4fe934ab-cb5d-4dec-b082-90d163d82bc3",
   "metadata": {},
   "source": [
    "**Q3** Implement the `pay_bill(balance, bill)`function.\\\n",
    "It accepts two parameters, `balance` and `bill`, where\\\n",
    "balance is the current account balance and bill is\\\n",
    "the amount of the bill that needs to be paid.\n",
    "\n",
    "If the balance is greater than or equal to the bill,\\\n",
    "the function should return the new balance after\\\n",
    "subtracting the bill from the balance. Otherwise,\\\n",
    "the function should return the balance without making any changes."
   ]
  },
  {
   "cell_type": "code",
   "execution_count": 46,
   "id": "d7da5c9f-a0f1-48b6-9946-0280219d7aff",
   "metadata": {},
   "outputs": [
    {
     "name": "stdout",
     "output_type": "stream",
     "text": [
      "99\n"
     ]
    }
   ],
   "source": [
    "def pay_bill(balance, bill):\n",
    "    if(balance >= bill):\n",
    "        return balance - bill\n",
    "    else: \n",
    "        return balance\n",
    "\n",
    "print(pay_bill(99, 100))"
   ]
  },
  {
   "cell_type": "markdown",
   "id": "2393f2dd-6c79-4148-b36d-e72fd3f7b930",
   "metadata": {},
   "source": [
    "**Q4** Implement the `get_min(a, b`  function in the code editor.\\\n",
    "It should return the minimum of a and b. If they are equal,\\\n",
    "it doesn't matter which value you return."
   ]
  },
  {
   "cell_type": "code",
   "execution_count": 56,
   "id": "db046e90-8293-49e3-a79d-12895471dae8",
   "metadata": {},
   "outputs": [
    {
     "name": "stdout",
     "output_type": "stream",
     "text": [
      "10\n"
     ]
    }
   ],
   "source": [
    "def get_min(a, b):\n",
    "    if(a>b):\n",
    "        return a\n",
    "    else:\n",
    "        return b\n",
    "print(get_min(10, 5))"
   ]
  },
  {
   "cell_type": "markdown",
   "id": "de79a207-e832-4596-852f-832fc90b663a",
   "metadata": {},
   "source": [
    "**Q5**  Using `if`, `elif` and `else`, implement\\\n",
    "the function called c`heck_range(num)`.\n",
    "\n",
    "- If num is less than 0, return the string \"negative\".\n",
    "- If num is 0 return the string \"zero\".\n",
    "- If num is greater than 0 and less than 10, return the string \"positive single digit\".\n",
    "- If num is greater than or equal to 10, return the string \"positive multi digit\".\n"
   ]
  },
  {
   "cell_type": "code",
   "execution_count": 76,
   "id": "f5b3e4ee-7c7f-49d7-b7b4-8188d7386fc4",
   "metadata": {},
   "outputs": [
    {
     "name": "stdout",
     "output_type": "stream",
     "text": [
      "positive multi digit\n"
     ]
    }
   ],
   "source": [
    "def check_range(num):\n",
    "    if num < 0:\n",
    "        return \"negative\"\n",
    "    elif num == 0:\n",
    "        return \"zero\"\n",
    "    elif num > 0 and num < 10:\n",
    "        return \"positive single digit\"\n",
    "    else:\n",
    "        return \"positive multi digit\"\n",
    "print(check_range(10000))"
   ]
  },
  {
   "cell_type": "markdown",
   "id": "8de62094-b4c5-4baa-a6d5-e6e753b60aec",
   "metadata": {},
   "source": [
    "**Q6** Implement the `discount_applies(age)` function.\\\n",
    "It accepts an integer age and should return `True`\\\n",
    "if the age is less than 18, or the age is greater\\\n",
    "than or equal to 65. Otherwise, it should return `False`."
   ]
  },
  {
   "cell_type": "code",
   "execution_count": 92,
   "id": "1da7412c-6546-457d-8efc-bd046de159cc",
   "metadata": {},
   "outputs": [
    {
     "name": "stdout",
     "output_type": "stream",
     "text": [
      "True\n"
     ]
    }
   ],
   "source": [
    "def discount_applies(age):\n",
    "    if age < 18 or age >= 65:\n",
    "        return True\n",
    "    else:\n",
    "        return False\n",
    "\n",
    "print(discount_applies(0))"
   ]
  },
  {
   "cell_type": "markdown",
   "id": "67653e9b-ad02-4ca4-b307-b97c184a7b42",
   "metadata": {},
   "source": [
    "**Q7** Implement the function `is_truthy()` that returns `\"Truthy\"`\\\n",
    "if the value is truthy, and returns `\"Falsy\"` if the value is falsy.\\\n",
    "The parameter value can be any type of value."
   ]
  },
  {
   "cell_type": "code",
   "execution_count": 104,
   "id": "8386f2bb-edfe-4564-9605-7ac35713b392",
   "metadata": {},
   "outputs": [
    {
     "name": "stdout",
     "output_type": "stream",
     "text": [
      "Truthy\n"
     ]
    }
   ],
   "source": [
    "def is_truthy(value):\n",
    "    if value:\n",
    "        return \"Truthy\"\n",
    "    else:\n",
    "        return \"Falsy\"\n",
    "\n",
    "print(is_truthy(0.10))"
   ]
  }
 ],
 "metadata": {
  "kernelspec": {
   "display_name": "Python 3 (ipykernel)",
   "language": "python",
   "name": "python3"
  },
  "language_info": {
   "codemirror_mode": {
    "name": "ipython",
    "version": 3
   },
   "file_extension": ".py",
   "mimetype": "text/x-python",
   "name": "python",
   "nbconvert_exporter": "python",
   "pygments_lexer": "ipython3",
   "version": "3.12.4"
  }
 },
 "nbformat": 4,
 "nbformat_minor": 5
}
