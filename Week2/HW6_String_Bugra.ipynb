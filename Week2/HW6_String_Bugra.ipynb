{
 "cells": [
  {
   "cell_type": "markdown",
   "id": "908b36b4-06e5-4306-9e48-4a8611e0a653",
   "metadata": {},
   "source": [
    "**Q1** Implement a function called `get_longer_word(word1, word2)`.\\\n",
    "It takes two words (strings) as parameters, and returns the\\\n",
    "longer word. If the words are the same length, return the first word."
   ]
  },
  {
   "cell_type": "code",
   "execution_count": 12,
   "id": "fce24313-8b20-442c-b628-02cd0ea50837",
   "metadata": {},
   "outputs": [
    {
     "name": "stdout",
     "output_type": "stream",
     "text": [
      "word22\n"
     ]
    }
   ],
   "source": [
    "def get_longer_word(word1, word2):\n",
    "    if len(word1) >= len(word2):\n",
    "        return word1\n",
    "    else:\n",
    "        return word2\n",
    "\n",
    "print(get_longer_word(\"word1\", \"word22\"))"
   ]
  },
  {
   "cell_type": "markdown",
   "id": "f6842565-0688-405d-8e52-9eabb45c310c",
   "metadata": {},
   "source": [
    "**Q2** Implement the three functions on the right as follows:\n",
    "\n",
    "- print_first_char(word: str) -> None should print\\\n",
    "  the first character of the word.\n",
    "- print_second_char(word: str) -> None should print\\\n",
    "  the second character of the word.\n",
    "- print_last_char(word: str) -> None should print\\\n",
    "  the last character of the word. (Hint: you will need the len() function.)\n",
    "\n",
    "You may assume that every word passed into your functions will have at least two characters."
   ]
  },
  {
   "cell_type": "code",
   "execution_count": 15,
   "id": "92146bd5-2e6f-44cc-8ab7-a843492b66db",
   "metadata": {},
   "outputs": [
    {
     "name": "stdout",
     "output_type": "stream",
     "text": [
      "H\n",
      "e\n",
      "!\n"
     ]
    }
   ],
   "source": [
    "def print_first_char(word: str) -> None:\n",
    "    print(word[0])\n",
    "\n",
    "def print_second_char(word: str) -> None:\n",
    "    print(word[1])\n",
    "\n",
    "def print_last_char(word: str) -> None:\n",
    "    print(word[len(word)-1])\n",
    "\n",
    "print_first_char(\"Hello World!\")\n",
    "print_second_char(\"Hello World!\")\n",
    "print_last_char(\"Hello World!\")\n",
    "\n",
    "\n"
   ]
  },
  {
   "cell_type": "markdown",
   "id": "ee4e88c1-a9b6-483c-b805-fe7ade9e2c6d",
   "metadata": {},
   "source": [
    "**Q3** Implement a function called `print_string_characters(my_string)`. \\\n",
    "It takes a string as a parameter and prints each character of the string separately."
   ]
  },
  {
   "cell_type": "code",
   "execution_count": 21,
   "id": "693b3e64-ac47-43cf-9c0a-98c680be25da",
   "metadata": {},
   "outputs": [
    {
     "name": "stdout",
     "output_type": "stream",
     "text": [
      "H\n",
      "e\n",
      "l\n",
      "l\n",
      "o\n",
      " \n",
      "W\n",
      "o\n",
      "r\n",
      "l\n",
      "d\n",
      "!\n"
     ]
    }
   ],
   "source": [
    "def print_string_characters(my_string: str) -> None:\n",
    "    for i in my_string:\n",
    "        print(i)\n",
    "\n",
    "print_string_characters(\"Hello World!\")"
   ]
  },
  {
   "cell_type": "markdown",
   "id": "0c348a80-3328-4d48-960f-6641afb55124",
   "metadata": {},
   "source": [
    "**Q4** Implement a function called `print_string_characters(word1, word2)`.\\\n",
    "It should print the characters of `word1` separately, and then print the\\\n",
    "characters of `word2` separately. Use the shorthand method to loop through\\\n",
    "each character in each word."
   ]
  },
  {
   "cell_type": "code",
   "execution_count": 27,
   "id": "976685ac-5f3e-4383-819b-9d951fff7006",
   "metadata": {},
   "outputs": [
    {
     "name": "stdout",
     "output_type": "stream",
     "text": [
      "w\n",
      "o\n",
      "r\n",
      "d\n",
      "1\n",
      " \n",
      "w\n",
      "o\n",
      "r\n",
      "d\n",
      "2\n"
     ]
    }
   ],
   "source": [
    "def print_string_characters(my_string: str, my_string2: str) -> None:\n",
    "    for i in my_string:\n",
    "        print(i)\n",
    "    \n",
    "    for i in my_string2:\n",
    "        print(i)\n",
    "        \n",
    "print_string_characters(\"word1\", \" word2\")\n"
   ]
  },
  {
   "cell_type": "markdown",
   "id": "4fcdf550-5192-4802-b976-567e34fe4803",
   "metadata": {},
   "source": [
    "**Q5** Implement the function `concatenate(s1, s2)`. It accepts two\\\n",
    "strings as parameters and returns a new string that is the\\\n",
    "concatenation of the two input strings. If the length of the\\\n",
    "string after concatenating them is greater than 10, return \"Too long!\".\n",
    "\n",
    "For example,\n",
    "\n",
    "- If you call `concatenate(\"Good \", \"job!\")`, it should return \"Good job!\".\n",
    "- If you call `concatenate(\"Goodbye, \", \"world!\")`, it should return \"Too long!\".\n"
   ]
  },
  {
   "cell_type": "code",
   "execution_count": 35,
   "id": "f029480c-af86-410a-8796-72830e264365",
   "metadata": {},
   "outputs": [
    {
     "name": "stdout",
     "output_type": "stream",
     "text": [
      "Too long!\n"
     ]
    }
   ],
   "source": [
    "def concatenate(s1: str, s2: str):\n",
    "    mergedString = s1 + \" \" + s2\n",
    "    if len(mergedString) > 10:\n",
    "        return \"Too long!\"\n",
    "    else:\n",
    "        return mergedString\n",
    "\n",
    "print(concatenate(\"Wonderful\", \"job!\"))"
   ]
  },
  {
   "cell_type": "markdown",
   "id": "67117631-76c7-44ef-bdb6-7cc5c3c15fd9",
   "metadata": {},
   "source": [
    "**Q6** Implement a function called `get_substring(input_string, start, end)`.\\\n",
    "It takes a string and two integers as parameters, and returns the substring\\\n",
    "of `input_string` string from the `start` index to the `end` index (not including the end index).\n",
    "\n",
    "Important: If `end` is an invalid index, return an empty string.\\\n",
    "You may assume that `start` will always be a valid index and that\\\n",
    "end will always be greater than or equal to `start`.\n",
    "\n",
    "The last valid index for a slice is the length of the string.\\\n",
    "Remember that `end` is not included for a slice. The last\\\n",
    "character included will be at index `end - 1`."
   ]
  },
  {
   "cell_type": "code",
   "execution_count": 57,
   "id": "987b4539-8ce2-454a-8fd8-e211ce5a1dae",
   "metadata": {},
   "outputs": [
    {
     "name": "stdout",
     "output_type": "stream",
     "text": [
      "\n"
     ]
    }
   ],
   "source": [
    "def get_substring(input_string: str, start: int, end: int):\n",
    "    if end > len(input_string):\n",
    "        return \"\"\n",
    "    else:\n",
    "        return input_string[start:end]\n",
    "\n",
    "print(get_substring(\"Hello World!\",0,13))"
   ]
  },
  {
   "cell_type": "markdown",
   "id": "57436ccb-997e-45dc-91a4-1542eb26a0fc",
   "metadata": {},
   "source": [
    "**Q7** Implement the two functions as follows:\n",
    "\n",
    "- `first_n_characters(s, n)` should return a string with the first n characters from `s`.\\\n",
    "   You may assume that the length of `s` is greater than or equal to `n`.\n",
    "- `last_n_characters(s, n)` should return a string with the last `n`\\\n",
    "   characters from `s`. You may assume that the length of `s` is greater than or equal to `n`.\n",
    "\n",
    "Hint: If we want the last 1 character from a string `s`, we would start\\\n",
    "at `index = len(s) - 1`. If we want the last 2 characters,\\\n",
    "we would start at `index = len(s) - 2`."
   ]
  },
  {
   "cell_type": "code",
   "execution_count": 67,
   "id": "43491962-75d8-4ea8-aa90-bd399affb962",
   "metadata": {},
   "outputs": [
    {
     "name": "stdout",
     "output_type": "stream",
     "text": [
      "tes\n",
      "ble\n"
     ]
    }
   ],
   "source": [
    "def first_n_characters(s: str, n: int) -> str:\n",
    "    return s[:n]\n",
    "\n",
    "def last_n_characters(s: str, n: int) -> str:\n",
    "    return s[len(s)-n:]\n",
    "\n",
    "print(first_n_characters(\"test variable\", 3))\n",
    "print(last_n_characters(\"test variable\", 3))"
   ]
  },
  {
   "cell_type": "markdown",
   "id": "eeb3138a-5e53-44b0-8b0c-9bd1527e73e0",
   "metadata": {},
   "source": [
    "**Q8** Implement the function `reverse_string(input_string)`.\\\n",
    "It takes a string as a parameter and returns the reversed string."
   ]
  },
  {
   "cell_type": "code",
   "execution_count": 75,
   "id": "7bf04587-5fa9-4b18-8622-49ee36737097",
   "metadata": {},
   "outputs": [
    {
     "name": "stdout",
     "output_type": "stream",
     "text": [
      "!olleH\n"
     ]
    }
   ],
   "source": [
    "def reverse_string(input_string: str):\n",
    "    return input_string[::-1]\n",
    "\n",
    "print(reverse_string(\"Hello!\"))"
   ]
  },
  {
   "cell_type": "markdown",
   "id": "b6845135-dfb3-4379-a589-7c9be63b8385",
   "metadata": {},
   "source": [
    "**Q9** Implement the function `remove_fourth_character(word)`,\\\n",
    "which removes the fourth character from the string and returns\\\n",
    "the new string. You may assume that the length of the string is greater than 4."
   ]
  },
  {
   "cell_type": "code",
   "execution_count": 77,
   "id": "d1896163-d1a8-47cb-8d87-7a7e676afd78",
   "metadata": {},
   "outputs": [
    {
     "name": "stdout",
     "output_type": "stream",
     "text": [
      "CanI get pizza\n"
     ]
    }
   ],
   "source": [
    "def remove_fourth_character(word: str):\n",
    "    before_fourth = word[:3]\n",
    "    after_fourth = word[4:]\n",
    "    return before_fourth + after_fourth\n",
    "\n",
    "print(remove_fourth_character(\"Can I get pizza\"))"
   ]
  },
  {
   "cell_type": "markdown",
   "id": "c2e4c589-f5da-468d-8f28-fe065e0e18db",
   "metadata": {},
   "source": [
    "**Q10** Implement the function `say_goodbye(name, hour)` \\\n",
    "that returns a string in the following format:\n",
    "\n",
    "`Goodbye, name. See you again at hour o'clock.`\n"
   ]
  },
  {
   "cell_type": "code",
   "execution_count": 87,
   "id": "faa0f567-0f34-42f4-9400-19e28fafe5f7",
   "metadata": {},
   "outputs": [
    {
     "name": "stdout",
     "output_type": "stream",
     "text": [
      "Goodbye, Bugra. See you again at 5 o'clock\n"
     ]
    }
   ],
   "source": [
    "def say_goodbye(name, hour):\n",
    "    return f\"Goodbye, {name}. See you again at {hour} o'clock\"\n",
    "\n",
    "print(say_goodbye(\"Bugra\", \"5\"))"
   ]
  }
 ],
 "metadata": {
  "kernelspec": {
   "display_name": "Python 3 (ipykernel)",
   "language": "python",
   "name": "python3"
  },
  "language_info": {
   "codemirror_mode": {
    "name": "ipython",
    "version": 3
   },
   "file_extension": ".py",
   "mimetype": "text/x-python",
   "name": "python",
   "nbconvert_exporter": "python",
   "pygments_lexer": "ipython3",
   "version": "3.12.4"
  }
 },
 "nbformat": 4,
 "nbformat_minor": 5
}
