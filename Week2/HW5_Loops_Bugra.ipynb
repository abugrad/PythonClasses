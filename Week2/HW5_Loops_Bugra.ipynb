{
 "cells": [
  {
   "cell_type": "markdown",
   "id": "92525a92-7984-4d6d-a499-8d841d41b154",
   "metadata": {},
   "source": [
    "**Q1**: Use a loop to print \"I know how to use while loops\" exactly 12 times."
   ]
  },
  {
   "cell_type": "code",
   "execution_count": 4,
   "id": "2897c719-96f6-4828-bae4-368ceed33f3d",
   "metadata": {},
   "outputs": [
    {
     "name": "stdout",
     "output_type": "stream",
     "text": [
      "I know how to use while loops0\n",
      "I know how to use while loops1\n",
      "I know how to use while loops2\n",
      "I know how to use while loops3\n",
      "I know how to use while loops4\n",
      "I know how to use while loops5\n",
      "I know how to use while loops6\n",
      "I know how to use while loops7\n",
      "I know how to use while loops8\n",
      "I know how to use while loops9\n",
      "I know how to use while loops10\n",
      "I know how to use while loops11\n"
     ]
    }
   ],
   "source": [
    "for i in range(0,12):\n",
    "    print(\"I know how to use while loops\" + str(i))"
   ]
  },
  {
   "cell_type": "markdown",
   "id": "265182d9-7484-45f2-908b-aace630b4f71",
   "metadata": {},
   "source": [
    "**Q2**: Can you use a while loop to print the\\\n",
    "digits from 0 to 9 in order (including 0 and 9)?\\\n",
    "Your loop should execute 10 times.\n"
   ]
  },
  {
   "cell_type": "code",
   "execution_count": 10,
   "id": "c8ac4534-ec2d-40c5-9473-c1583be4fc3e",
   "metadata": {},
   "outputs": [
    {
     "name": "stdout",
     "output_type": "stream",
     "text": [
      "0\n",
      "1\n",
      "2\n",
      "3\n",
      "4\n",
      "5\n",
      "6\n",
      "7\n",
      "8\n",
      "9\n"
     ]
    }
   ],
   "source": [
    "i = 0;\n",
    "\n",
    "while i<10:\n",
    "    print(i)\n",
    "    i += 1"
   ]
  },
  {
   "cell_type": "markdown",
   "id": "6c079f61-2730-479b-a450-2d9597121f62",
   "metadata": {},
   "source": [
    "**Q3** Can you use a while loop to print all multiples of 10 from 10 to 90 in order (including 10 and 90)?"
   ]
  },
  {
   "cell_type": "code",
   "execution_count": 12,
   "id": "d4745404-d4c4-4426-b774-5fe128f32d74",
   "metadata": {},
   "outputs": [
    {
     "name": "stdout",
     "output_type": "stream",
     "text": [
      "10\n",
      "20\n",
      "30\n",
      "40\n",
      "50\n",
      "60\n",
      "70\n",
      "80\n",
      "90\n"
     ]
    }
   ],
   "source": [
    "i = 1;\n",
    "\n",
    "while i<10:\n",
    "    print(i*10)\n",
    "    i+=1"
   ]
  },
  {
   "cell_type": "markdown",
   "id": "5da98060-299b-4ab8-809f-bcb7e79482f3",
   "metadata": {},
   "source": [
    "**Q4** Using a for loop, print the numbers 0 through 12, in order, including 0 and 12."
   ]
  },
  {
   "cell_type": "code",
   "execution_count": 14,
   "id": "abcfdae3-7ab0-4bbf-8a1a-06e3e42ace0f",
   "metadata": {},
   "outputs": [
    {
     "name": "stdout",
     "output_type": "stream",
     "text": [
      "0\n",
      "1\n",
      "2\n",
      "3\n",
      "4\n",
      "5\n",
      "6\n",
      "7\n",
      "8\n",
      "9\n",
      "10\n",
      "11\n",
      "12\n"
     ]
    }
   ],
   "source": [
    "for i in range(0,13):\n",
    "    print(i)"
   ]
  },
  {
   "cell_type": "markdown",
   "id": "6b87fa60-2b32-4690-95f1-5fd2176df643",
   "metadata": {},
   "source": [
    "**Q5** Using a for loop, print the numbers 10 through 20, in order, including 10 and 20."
   ]
  },
  {
   "cell_type": "code",
   "execution_count": 16,
   "id": "f8e84473-fceb-42bc-a074-8b9ef584a3ef",
   "metadata": {},
   "outputs": [
    {
     "name": "stdout",
     "output_type": "stream",
     "text": [
      "10\n",
      "11\n",
      "12\n",
      "13\n",
      "14\n",
      "15\n",
      "16\n",
      "17\n",
      "18\n",
      "19\n",
      "20\n"
     ]
    }
   ],
   "source": [
    "for i in range(10,21):\n",
    "    print(i)"
   ]
  },
  {
   "cell_type": "markdown",
   "id": "9f496a75-6b06-4c70-9b50-2ae257d21edb",
   "metadata": {},
   "source": [
    "**Q6** Using a for loop, print all multiples of 10 from 0 to 100, in order, including 0 and 100."
   ]
  },
  {
   "cell_type": "code",
   "execution_count": 18,
   "id": "27830646-c091-4140-a809-018f64cf3a20",
   "metadata": {},
   "outputs": [
    {
     "name": "stdout",
     "output_type": "stream",
     "text": [
      "0\n",
      "10\n",
      "20\n",
      "30\n",
      "40\n",
      "50\n",
      "60\n",
      "70\n",
      "80\n",
      "90\n",
      "100\n"
     ]
    }
   ],
   "source": [
    "for i in range(0,11):\n",
    "    print(i*10)"
   ]
  },
  {
   "cell_type": "markdown",
   "id": "200bc0f8-9248-432f-af56-e6cd686ed58f",
   "metadata": {},
   "source": [
    "**Q7** Using a for loop, print the numbers 20 through 10, in reverse order, including 20 and 10."
   ]
  },
  {
   "cell_type": "code",
   "execution_count": 20,
   "id": "baa55e7b-298e-46cc-b841-b5143c932d19",
   "metadata": {},
   "outputs": [
    {
     "name": "stdout",
     "output_type": "stream",
     "text": [
      "20\n",
      "19\n",
      "18\n",
      "17\n",
      "16\n",
      "15\n",
      "14\n",
      "13\n",
      "12\n",
      "11\n",
      "10\n"
     ]
    }
   ],
   "source": [
    "for i in range(20,9,-1):\n",
    "    print(i)"
   ]
  },
  {
   "cell_type": "markdown",
   "id": "442034d4-95fb-45a5-858e-8a0ef5f03cd7",
   "metadata": {},
   "source": [
    "**Q8** Using nested loops, print all pairs of numbers from 3, 4, 5, where the order of each pair matters."
   ]
  },
  {
   "cell_type": "code",
   "execution_count": null,
   "id": "1f268a36-9c3d-4f57-b6e1-4470cd2a8e30",
   "metadata": {},
   "outputs": [],
   "source": [
    "for i in range(3,6):\n",
    "    for y in range (3,6):\n",
    "        pri"
   ]
  }
 ],
 "metadata": {
  "kernelspec": {
   "display_name": "Python 3 (ipykernel)",
   "language": "python",
   "name": "python3"
  },
  "language_info": {
   "codemirror_mode": {
    "name": "ipython",
    "version": 3
   },
   "file_extension": ".py",
   "mimetype": "text/x-python",
   "name": "python",
   "nbconvert_exporter": "python",
   "pygments_lexer": "ipython3",
   "version": "3.12.4"
  }
 },
 "nbformat": 4,
 "nbformat_minor": 5
}
