{
 "cells": [
  {
   "cell_type": "code",
   "execution_count": 14,
   "id": "6d080354-1189-4fa0-89cb-bd886601325f",
   "metadata": {},
   "outputs": [
    {
     "name": "stdout",
     "output_type": "stream",
     "text": [
      "{'Bugra': 30}\n",
      "{'apple': 0, 'banana': 1, 'cherry': 2}\n"
     ]
    }
   ],
   "source": []
  },
  {
   "cell_type": "markdown",
   "id": "26592e8c-4e55-4005-ba56-184f672db6ae",
   "metadata": {},
   "source": [
    "**Q1** You are given two functions to implement:\\\n",
    "\n",
    "- `create_dict(name, age)` should create a dict, mapping\\\n",
    "   the name to the age and then return the dict.\n",
    "- `list_to_dict(words)` should take a list of strings words\\\n",
    "   and map each string to its index in the list, and return the resulting dict."
   ]
  },
  {
   "cell_type": "code",
   "execution_count": 16,
   "id": "30ad9279-3070-4c99-957a-9b2cd22aea03",
   "metadata": {},
   "outputs": [
    {
     "name": "stdout",
     "output_type": "stream",
     "text": [
      "{'Alice': 25}\n",
      "{'Jane': 35}\n",
      "{'Joe': 45}\n",
      "{'Alice': 0, 'Jane': 1, 'Joe': 2}\n",
      "{'Apple': 0, 'Banana': 1, 'Watermelon': 2, 'Pineapple': 3}\n"
     ]
    }
   ],
   "source": [
    "#your code here\n",
    "\n",
    "def create_dict(name, age):\n",
    "    my_dict = {}\n",
    "    my_dict[name] = age\n",
    "    return my_dict\n",
    "\n",
    "def list_to_dict(words):\n",
    "    my_dict = {}\n",
    "    for i in range(len(words)):\n",
    "        my_dict[words[i]] = i\n",
    "    return my_dict \n",
    "    \n",
    "# don't modify code below this line\n",
    "print(create_dict(\"Alice\", 25))\n",
    "print(create_dict(\"Jane\", 35))\n",
    "print(create_dict(\"Joe\", 45))\n",
    "\n",
    "print(list_to_dict([\"Alice\", \"Jane\", \"Joe\"]))\n",
    "print(list_to_dict([\"Apple\", \"Banana\", \"Watermelon\", \"Pineapple\"]))\n"
   ]
  },
  {
   "cell_type": "markdown",
   "id": "ae358c60-b96d-4aa5-b10b-ca6adcd96a6a",
   "metadata": {},
   "source": [
    "**Q2** Perform the following operations in order on the dictionary below:\n",
    "\n",
    "- Print the dictionary itself.\n",
    "- Print the value of the key \"a\".\n",
    "- Print True or False depending on whether the key \"d\" is in the dictionary.\n",
    "- Reassign the value of the key \"a\" to 4.\n",
    "- Print the dictionary again."
   ]
  },
  {
   "cell_type": "code",
   "execution_count": 42,
   "id": "92a42b35-7f06-4f3e-8309-438a9acf4160",
   "metadata": {},
   "outputs": [
    {
     "name": "stdout",
     "output_type": "stream",
     "text": [
      "{'a': 10, 'apple': 12, 'bat': 7}\n",
      "10\n",
      "False\n",
      "{'a': 4, 'apple': 12, 'bat': 7}\n"
     ]
    }
   ],
   "source": [
    "your_dict = { \n",
    "  \"a\": 10, \n",
    "  \"apple\": 12,\n",
    "  \"bat\": 7\n",
    "}\n",
    "\n",
    "#your code here\n",
    "\n",
    "print(your_dict)\n",
    "print(your_dict[\"a\"])\n",
    "print(\"d\" in your_dict)\n",
    "your_dict[\"a\"] = 4\n",
    "print(your_dict)"
   ]
  },
  {
   "cell_type": "markdown",
   "id": "d915c6fd-b5a2-4c0d-bc02-b70245ef1004",
   "metadata": {},
   "source": [
    "**Q3** Implement the following two functions:\n",
    "\n",
    "- `get_dict_keys(age_dict)` should take a dictionary of names and ages and return a      list of the names.\n",
    "- `get_dict_values(age_dict)` should take a dictionary of names and ages and return a   list of the ages."
   ]
  },
  {
   "cell_type": "code",
   "execution_count": 46,
   "id": "fd9c1549-8559-4916-a6c0-c8397e2ececd",
   "metadata": {},
   "outputs": [
    {
     "name": "stdout",
     "output_type": "stream",
     "text": [
      "['John', 'Doe', 'Jane']\n",
      "['NeetCode', 'NeetCode2', 'NeetCode3']\n",
      "[25, 30, 22]\n",
      "[24, 25, 26]\n"
     ]
    }
   ],
   "source": [
    "#your code here\n",
    "def get_dict_keys(age_dict):\n",
    "    key_list = []\n",
    "    for k, v in age_dict.items():\n",
    "        key_list.append(k)\n",
    "    return key_list\n",
    "def get_dict_values(age_dict):\n",
    "    value_list = []\n",
    "    for k, v in age_dict.items():\n",
    "        value_list.append(v)\n",
    "    return value_list\n",
    "\n",
    "# do not modify below this line\n",
    "dict_1 = {\"John\": 25, \"Doe\": 30, \"Jane\": 22}\n",
    "dict_2 = {\"NeetCode\": 24, \"NeetCode2\": 25, \"NeetCode3\": 26}\n",
    "\n",
    "print(get_dict_keys(dict_1))\n",
    "print(get_dict_keys(dict_2))\n",
    "\n",
    "print(get_dict_values(dict_1))\n",
    "print(get_dict_values(dict_2))\n"
   ]
  },
  {
   "cell_type": "markdown",
   "id": "d6375337-ee99-45a0-ab1d-c7cc8598d071",
   "metadata": {},
   "source": [
    "**Q4** Implement the function `count_characters()`. It should take\\\n",
    "a string word and return a dictionary with the count of\\\n",
    "each character in the word. The keys should be the characters\\\n",
    "and the values should be the count of each character.\n",
    "\n",
    "Hint: If you access a key that doesn't exist in a dictionary,\\\n",
    "it will raise a KeyError. Make sure to handle this case by\\\n",
    "checking if the key exists before trying to access it."
   ]
  },
  {
   "cell_type": "code",
   "execution_count": 54,
   "id": "39c080b6-3a0f-4a44-8de3-71c5325628dd",
   "metadata": {},
   "outputs": [
    {
     "name": "stdout",
     "output_type": "stream",
     "text": [
      "{'h': 1, 'e': 1, 'l': 2, 'o': 1}\n",
      "{'w': 1, 'o': 1, 'r': 1, 'l': 1, 'd': 1}\n",
      "{'h': 1, 'e': 1, 'l': 3, 'o': 2, ' ': 1, 'w': 1, 'r': 1, 'd': 1}\n",
      "{'t': 2, 'h': 1, 'i': 2, 's': 3, ' ': 4, 'a': 1, 'l': 1, 'o': 1, 'n': 3, 'g': 1, 'e': 4, 'r': 1, 'c': 1}\n"
     ]
    }
   ],
   "source": [
    "#your code here\n",
    "def count_characters(str):\n",
    "    counts = {}\n",
    "    for char in str:\n",
    "        if char in counts:\n",
    "            counts[char] += 1\n",
    "        else:\n",
    "            counts[char] = 1\n",
    "    return counts\n",
    "        \n",
    "# don't modify below this line\n",
    "print(count_characters(\"hello\"))\n",
    "print(count_characters(\"world\"))\n",
    "print(count_characters(\"hello world\"))\n",
    "print(count_characters(\"this is a longer sentence\"))\n"
   ]
  },
  {
   "cell_type": "markdown",
   "id": "e64c5994-f9a7-4b12-8ba0-9fedcd4d1f84",
   "metadata": {},
   "source": [
    "**Q5** Implement the `remove_keys(my_dict, keys)` function. It accepts a dictionary\\ my_dict and a list of strings keys. The function should remove all the keys in the\\ list from the dictionary and return the modified dictionary. If a key doesn't exist\\ in the dictionary, ignore it.\n",
    "\n",
    "Be careful: If you try to remove a key that doesn't exist, it will raise a `KeyError`.\\\n",
    "Make sure to handle this case by checking if the key exists before trying\\\n",
    "to remove it, or using the second argument of the `pop()` function."
   ]
  },
  {
   "cell_type": "code",
   "execution_count": 56,
   "id": "22beaf6e-d558-4c8a-9806-f47b4641dc34",
   "metadata": {},
   "outputs": [
    {
     "name": "stdout",
     "output_type": "stream",
     "text": [
      "{'b': 2}\n",
      "{'a': 1, 'b': 2, 'c': 3}\n"
     ]
    }
   ],
   "source": [
    "#your code here\n",
    "def remove_keys(my_dict, keys):\n",
    "    for e in keys:\n",
    "        my_dict.pop(e, 0)\n",
    "    return my_dict\n",
    "# do not modify below this line\n",
    "print(remove_keys({\"a\": 1, \"b\": 2, \"c\": 3}, [\"a\", \"c\"]))\n",
    "print(remove_keys({\"a\": 1, \"b\": 2, \"c\": 3}, [\"d\"]))\n"
   ]
  },
  {
   "cell_type": "markdown",
   "id": "35cdf7c2-00e8-43cc-b34d-3098078afe31",
   "metadata": {},
   "source": [
    "**Q6** Implement the `get_dict_values(age_dict)` function. It accepts\\\n",
    "a dictionary of names and ages and should return a list of the ages.\n",
    "Use `values()` method."
   ]
  },
  {
   "cell_type": "code",
   "execution_count": null,
   "id": "77f03b2e-26d3-41fb-abfc-9935b781f183",
   "metadata": {},
   "outputs": [],
   "source": [
    "#your code here\n",
    "def remove_keys(my_dict, keys):\n",
    "    age_list = []\n",
    "    for v in my\n",
    "    return age_list\n",
    "# do not modify below this line\n",
    "print(get_dict_values({\"Alice\": 25, \"Bob\": 30, \"Charlie\": 35}))\n",
    "print(get_dict_values({\"Alice\": 25, \"Bob\": 30, \"Charlie\": 35, \"David\": 40}))\n"
   ]
  }
 ],
 "metadata": {
  "kernelspec": {
   "display_name": "Python 3 (ipykernel)",
   "language": "python",
   "name": "python3"
  },
  "language_info": {
   "codemirror_mode": {
    "name": "ipython",
    "version": 3
   },
   "file_extension": ".py",
   "mimetype": "text/x-python",
   "name": "python",
   "nbconvert_exporter": "python",
   "pygments_lexer": "ipython3",
   "version": "3.12.4"
  }
 },
 "nbformat": 4,
 "nbformat_minor": 5
}
