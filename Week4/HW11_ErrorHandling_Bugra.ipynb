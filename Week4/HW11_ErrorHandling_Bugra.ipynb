{
 "cells": [
  {
   "cell_type": "markdown",
   "metadata": {},
   "source": [
    "**Q1** Implement the function `divide_numbers(a, b)`. It should \\\n",
    "attempt to divide a by b and print the result. If an error\\\n",
    " occurs, print `\"An error occurred!\"`."
   ]
  },
  {
   "cell_type": "code",
   "execution_count": 12,
   "metadata": {},
   "outputs": [
    {
     "name": "stdout",
     "output_type": "stream",
     "text": [
      "5.0\n",
      "4.0\n",
      "An error occurred!\n"
     ]
    }
   ],
   "source": [
    "def divide_numbers(a, b):\n",
    "    try:\n",
    "        print(a/b)\n",
    "    except: \n",
    "        print(\"An error occurred!\")\n",
    "    \n",
    "\n",
    "\n",
    "# do not modify below this line\n",
    "divide_numbers(10, 2)\n",
    "divide_numbers(12, 3)\n",
    "divide_numbers(2, 0)\n"
   ]
  },
  {
   "cell_type": "markdown",
   "metadata": {},
   "source": [
    "**Q2** Implement the function `divide_numbers(a, b)`. It accepts two \\\n",
    "strings as arguments. You should attempt to convert the strings into\\\n",
    " integers, and then divide the first number by the second number. \\\n",
    " And then print the result.\n",
    "\n",
    "If an error occurs, print `\"An error occurred:\"`, followed by the error message."
   ]
  },
  {
   "cell_type": "code",
   "execution_count": 14,
   "metadata": {},
   "outputs": [
    {
     "name": "stdout",
     "output_type": "stream",
     "text": [
      "5.0\n",
      "An error occurred:  division by zero\n",
      "An error occurred:  invalid literal for int() with base 10: 'not a number'\n"
     ]
    }
   ],
   "source": [
    "def divide_numbers(a, b) -> None:\n",
    "    try:\n",
    "        print(int(a)/int(b))\n",
    "    except Exception as error:\n",
    "        print(\"An error occurred: \", error)\n",
    "\n",
    "# do not modify below this line\n",
    "divide_numbers(\"10\", \"2\")\n",
    "divide_numbers(\"12\", \"0\")\n",
    "divide_numbers(\"2\", \"not a number\")\n"
   ]
  },
  {
   "cell_type": "markdown",
   "metadata": {},
   "source": [
    "**Q3** Implement the `divide_numbers(a, b)`function. It accepts \\\n",
    "two strings as arguments. You should attempt to convert the \\\n",
    "strings into integers, and then divide the first number by\\\n",
    "the second number, and then print the result.\n",
    "\n",
    "- If a `ValueError` occurs, print `\"Error: Invalid value!\"`.\n",
    "- If a `ZeroDivisionError` occurs, print `\"Error: Division by zero!\"`.\n",
    "- If any other error occurs, print `\"An error occurred:\",` followed by the error message.\n"
   ]
  },
  {
   "cell_type": "code",
   "execution_count": null,
   "metadata": {},
   "outputs": [],
   "source": [
    "def divide_numbers(a: str, b: str) -> None:\n",
    "    try:\n",
    "        print(int(a)/int(b))\n",
    "    except ValueError:\n",
    "        print(\"Error: Invalid value!\")\n",
    "    except Exception as error:\n",
    "        print(\"An error occurred: \", error)\n",
    "\n",
    "# do not modify below this line\n",
    "divide_numbers(\"10\", \"2\")\n",
    "divide_numbers(\"12\", \"0\")\n",
    "divide_numbers(\"2\", \"not a number\")\n"
   ]
  }
 ],
 "metadata": {
  "kernelspec": {
   "display_name": "Python 3 (ipykernel)",
   "language": "python",
   "name": "python3"
  },
  "language_info": {
   "codemirror_mode": {
    "name": "ipython",
    "version": 3
   },
   "file_extension": ".py",
   "mimetype": "text/x-python",
   "name": "python",
   "nbconvert_exporter": "python",
   "pygments_lexer": "ipython3",
   "version": "3.12.4"
  }
 },
 "nbformat": 4,
 "nbformat_minor": 4
}
