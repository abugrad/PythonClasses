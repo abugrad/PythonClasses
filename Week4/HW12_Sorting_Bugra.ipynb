{
 "cells": [
  {
   "cell_type": "markdown",
   "metadata": {},
   "source": [
    "**Q1** Implement the following functions:\n",
    "\n",
    "- `sort_words(words)` - This function accepts a list of words and returns a\\\n",
    " new list of words sorted in ascending order.\n",
    "- `sort_numbers(numbers)` - This function accepts a list of numbers\\\n",
    " and returns a new list of numbers sorted in ascending order.\n",
    "- `sort_decimals(numbers)` - This function accepts a list of decimal\\\n",
    " numbers and returns a new list of decimal numbers sorted in ascending order.- "
   ]
  },
  {
   "cell_type": "code",
   "execution_count": 6,
   "metadata": {},
   "outputs": [
    {
     "name": "stdout",
     "output_type": "stream",
     "text": [
      "['apple', 'banana', 'blueberry', 'cherry', 'kiwi', 'pear', 'watermelon', 'zucchini']\n",
      "[1, 2, 2, 2, 3, 4, 4, 5, 5, 6, 6, 7, 9, 11, 19]\n",
      "[2.82, 3.14, 6.433, 7.9, 21.554, 21.555]\n"
     ]
    }
   ],
   "source": [
    "from typing import List\n",
    "\n",
    "\n",
    "def sort_words(words):\n",
    "    return sorted(words)\n",
    "\n",
    "\n",
    "def sort_numbers(numbers):\n",
    "    return sorted(numbers)\n",
    "\n",
    "def sort_decimals(numbers):\n",
    "    return sorted(numbers)\n",
    "\n",
    "# do not modify below this line\n",
    "print(sort_words([\"cherry\", \"apple\", \"blueberry\", \"banana\", \"watermelon\", \"zucchini\", \"kiwi\", \"pear\"]))\n",
    "\n",
    "print(sort_numbers([1, 5, 3, 2, 4, 11, 19, 9, 2, 5, 6, 7, 4, 2, 6]))\n",
    "\n",
    "print(sort_decimals([3.14, 2.82, 6.433, 7.9, 21.555, 21.554]))\n"
   ]
  },
  {
   "cell_type": "markdown",
   "metadata": {},
   "source": [
    "**Q2** Implement the following functions:\n",
    "\n",
    "- `sort_words(words)` - This function accepts a list of words \\\n",
    "and returns a new list of words sorted in descending order.\n",
    "- `sort_numbers(numbers)` - This function accepts a list of numbers\\\n",
    " and returns a new list of numbers sorted in descending order.\n",
    "- `sort_decimals(numbers)`- This function accepts a list of decimal\\\n",
    " numbers and returns a new list of decimal numbers sorted in descending order."
   ]
  },
  {
   "cell_type": "code",
   "execution_count": 10,
   "metadata": {},
   "outputs": [
    {
     "name": "stdout",
     "output_type": "stream",
     "text": [
      "['zucchini', 'watermelon', 'pear', 'kiwi', 'cherry', 'blueberry', 'banana', 'apple']\n",
      "[19, 11, 9, 7, 6, 6, 5, 5, 4, 4, 3, 2, 2, 2, 1]\n",
      "[21.555, 21.554, 7.9, 6.433, 3.14, 2.82]\n"
     ]
    }
   ],
   "source": [
    "\n",
    "def sort_words(words):\n",
    "    return sorted(words, reverse=True)\n",
    "\n",
    "def sort_numbers(numbers):\n",
    "    return sorted(numbers, reverse=True)\n",
    "\n",
    "def sort_decimals(numbers):\n",
    "    return sorted(numbers, reverse=True)\n",
    "\n",
    "# do not modify below this line\n",
    "print(sort_words([\"cherry\", \"apple\", \"blueberry\", \"banana\", \"watermelon\", \"zucchini\", \"kiwi\", \"pear\"]))\n",
    "\n",
    "print(sort_numbers([1, 5, 3, 2, 4, 11, 19, 9, 2, 5, 6, 7, 4, 2, 6]))\n",
    "\n",
    "print(sort_decimals([3.14, 2.82, 6.433, 7.9, 21.555, 21.554]))\n"
   ]
  },
  {
   "cell_type": "markdown",
   "metadata": {},
   "source": [
    "**Q3** Implement the following functions:\n",
    "\n",
    "- `sort_words(words)` - This function accepts a list of words and\\\n",
    " returns a new list of words sorted based on their length, in descending order.\n",
    "- `sort_numbers(numbers)` - This function accepts a list of numbers\\\n",
    " and returns a new list of numbers sorted based on their absolute value,\\\n",
    "  in ascending order. \\\n",
    "  Hint: You may use the `abs()` function to get the absolute value of a number."
   ]
  },
  {
   "cell_type": "code",
   "execution_count": 24,
   "metadata": {},
   "outputs": [
    {
     "name": "stdout",
     "output_type": "stream",
     "text": [
      "['kiwi', 'pear', 'apple', 'cherry', 'banana', 'zucchini', 'blueberry', 'watermelon']\n",
      "[1, 2, -2, 2, -3, 4, -4, -5, 5, -6, 6, 7, 9, 11, -19]\n"
     ]
    }
   ],
   "source": [
    "\n",
    "def word_length(word):\n",
    "    return len(word)\n",
    "\n",
    "def number_abs(number):\n",
    "    return abs(number)\n",
    "\n",
    "\n",
    "def sort_words(words):\n",
    "    return sorted(words, key=word_length)\n",
    "\n",
    "def sort_numbers(numbers):\n",
    "    return sorted(numbers, key=number_abs) \n",
    "\n",
    "\n",
    "# do not modify below this line\n",
    "print(sort_words([\"cherry\", \"apple\", \"blueberry\", \"banana\", \"watermelon\", \"zucchini\", \"kiwi\", \"pear\"]))\n",
    "\n",
    "print(sort_numbers([1, -5, -3, 2, 4, 11, -19, 9, -2, 5, -6, 7, -4, 2, 6]))\n"
   ]
  },
  {
   "cell_type": "markdown",
   "metadata": {},
   "source": [
    "**Q4** Implement the following functions:\n",
    "\n",
    "- `sort_words(words)` - This function accepts a list of words\\\n",
    " and returns a new list of words sorted based on their length,\\\n",
    "  in descending order. Use a lambda function to sort the words by their length.\n",
    "- `sort_numbers(numbers)` - This function accepts a list\\\n",
    " of numbers and returns a new list of numbers sorted based on\\\n",
    "  their absolute value, in ascending order. Use a lambda function\\\n",
    "   to sort the numbers by their absolute value."
   ]
  },
  {
   "cell_type": "code",
   "execution_count": 30,
   "metadata": {},
   "outputs": [
    {
     "name": "stdout",
     "output_type": "stream",
     "text": [
      "['watermelon', 'blueberry', 'zucchini', 'cherry', 'banana', 'apple', 'kiwi', 'pear']\n",
      "[-19, 11, 9, 7, -6, 6, -5, 5, 4, -4, -3, 2, -2, 2, 1]\n"
     ]
    }
   ],
   "source": [
    "\n",
    "def sort_words(words):\n",
    "    return sorted(words, key = lambda w: len(w), reverse=True)\n",
    "\n",
    "def sort_numbers(numbers):\n",
    "    return sorted(numbers, key = lambda n: abs(n), reverse=True)\n",
    "\n",
    "\n",
    "# do not modify below this line\n",
    "print(sort_words([\"cherry\", \"apple\", \"blueberry\", \"banana\", \"watermelon\", \"zucchini\", \"kiwi\", \"pear\"]))\n",
    "\n",
    "print(sort_numbers([1, -5, -3, 2, 4, 11, -19, 9, -2, 5, -6, 7, -4, 2, 6]))\n"
   ]
  },
  {
   "cell_type": "markdown",
   "metadata": {},
   "source": [
    "**Q5** Implement the following functions:\n",
    "\n",
    "- `sort_words(words)` - This function accepts a list of words and \\\n",
    "returns a new list of words sorted in ascending order. \\\n",
    "Do not modify the original list.\n",
    "- `sort_numbers(numbers)` - This function accepts a list \\\n",
    "of numbers and returns a new list of numbers sorted in\\\n",
    " descending order based on their absolute value. \\\n",
    " Do not modify the original list.- "
   ]
  },
  {
   "cell_type": "code",
   "execution_count": 34,
   "metadata": {},
   "outputs": [
    {
     "name": "stdout",
     "output_type": "stream",
     "text": [
      "['cherry', 'apple', 'blueberry', 'banana', 'watermelon', 'zucchini', 'kiwi', 'pear']\n",
      "['kiwi', 'pear', 'apple', 'cherry', 'banana', 'zucchini', 'blueberry', 'watermelon']\n",
      "[1, -5, -3, 2, 4, 11, -19, 9, -2, 5, -6, 7, -4, 2, 6]\n",
      "[1, 2, -2, 2, -3, 4, -4, -5, 5, -6, 6, 7, 9, 11, -19]\n"
     ]
    }
   ],
   "source": [
    "from typing import List\n",
    "\n",
    "\n",
    "def sort_words(words):\n",
    "    return sorted(words, key = lambda w: len(w))\n",
    "\n",
    "def sort_numbers(numbers):\n",
    "    return sorted(numbers, key = lambda n: abs(n))\n",
    "\n",
    "\n",
    "# do not modify below this line\n",
    "original_words = [\"cherry\", \"apple\", \"blueberry\", \"banana\", \"watermelon\", \"zucchini\", \"kiwi\", \"pear\"]\n",
    "\n",
    "print(original_words)\n",
    "print(sort_words(original_words))\n",
    "\n",
    "original_numbers = [1, -5, -3, 2, 4, 11, -19, 9, -2, 5, -6, 7, -4, 2, 6]\n",
    "\n",
    "print(original_numbers)\n",
    "print(sort_numbers(original_numbers))\n"
   ]
  }
 ],
 "metadata": {
  "kernelspec": {
   "display_name": "Python 3 (ipykernel)",
   "language": "python",
   "name": "python3"
  },
  "language_info": {
   "codemirror_mode": {
    "name": "ipython",
    "version": 3
   },
   "file_extension": ".py",
   "mimetype": "text/x-python",
   "name": "python",
   "nbconvert_exporter": "python",
   "pygments_lexer": "ipython3",
   "version": "3.12.4"
  }
 },
 "nbformat": 4,
 "nbformat_minor": 4
}
