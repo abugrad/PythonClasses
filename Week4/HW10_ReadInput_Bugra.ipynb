{
 "cells": [
  {
   "cell_type": "markdown",
   "id": "a3276ba5-ef4c-41a7-a0ab-44dfc9631ba1",
   "metadata": {},
   "source": [
    "**Q1** Implement a function called `read_and_print_input()`.\\\n",
    "It should read a single line of input from the console\\\n",
    "and print it to the console. The prompt it should provide\\\n",
    "is `\"Reading one line of text into a string: \"`. Note that\\\n",
    "there is a space after the colon.\n",
    "\n",
    "Call your function exactly 2 times."
   ]
  },
  {
   "cell_type": "code",
   "execution_count": 7,
   "id": "e661c846-2a5e-441b-9962-a5edd2b81521",
   "metadata": {},
   "outputs": [
    {
     "name": "stdin",
     "output_type": "stream",
     "text": [
      "Reading one line of text into a string:  9\n"
     ]
    },
    {
     "name": "stdout",
     "output_type": "stream",
     "text": [
      "9\n"
     ]
    },
    {
     "name": "stdin",
     "output_type": "stream",
     "text": [
      "Reading one line of text into a string:  ali\n"
     ]
    },
    {
     "name": "stdout",
     "output_type": "stream",
     "text": [
      "ali\n"
     ]
    }
   ],
   "source": [
    "def read_and_print_input() -> None:\n",
    "    user_input = input(\"Reading one line of text into a string: \")\n",
    "    print(user_input)\n",
    "\n",
    "read_and_print_input()\n",
    "read_and_print_input()"
   ]
  },
  {
   "cell_type": "markdown",
   "id": "d5974aac-95d6-4541-a162-582d02b0c404",
   "metadata": {},
   "source": [
    "**Q2** Implement the following two functions:\n",
    "\n",
    "- `read_integer():` This function should read an integer from the\\\n",
    "   user and return it. The prompt should be empty.\n",
    "- `read_float():` This function should read a floating point number\\\n",
    "   from the user and return it. The prompt should be empty.\n"
   ]
  },
  {
   "cell_type": "code",
   "execution_count": 9,
   "id": "0d7b1b5d-863e-44c1-b269-cc03a6ac6e84",
   "metadata": {},
   "outputs": [
    {
     "name": "stdin",
     "output_type": "stream",
     "text": [
      " 5\n"
     ]
    },
    {
     "name": "stdout",
     "output_type": "stream",
     "text": [
      "5\n"
     ]
    },
    {
     "name": "stdin",
     "output_type": "stream",
     "text": [
      " 6\n"
     ]
    },
    {
     "name": "stdout",
     "output_type": "stream",
     "text": [
      "6\n"
     ]
    },
    {
     "name": "stdin",
     "output_type": "stream",
     "text": [
      " 8\n"
     ]
    },
    {
     "name": "stdout",
     "output_type": "stream",
     "text": [
      "8\n"
     ]
    },
    {
     "name": "stdin",
     "output_type": "stream",
     "text": [
      " 2.3\n"
     ]
    },
    {
     "name": "stdout",
     "output_type": "stream",
     "text": [
      "2.3\n"
     ]
    },
    {
     "name": "stdin",
     "output_type": "stream",
     "text": [
      " 6.5\n"
     ]
    },
    {
     "name": "stdout",
     "output_type": "stream",
     "text": [
      "6.5\n"
     ]
    },
    {
     "name": "stdin",
     "output_type": "stream",
     "text": [
      " 4\n"
     ]
    },
    {
     "name": "stdout",
     "output_type": "stream",
     "text": [
      "4.0\n"
     ]
    }
   ],
   "source": [
    "def read_integer() -> int:\n",
    "    integer_input = int(input())\n",
    "    return integer_input\n",
    "\n",
    "def read_float() -> float:\n",
    "    float_input = float(input())\n",
    "    return float_input\n",
    "\n",
    "# do not modify below this line\n",
    "print(read_integer())\n",
    "print(read_integer())\n",
    "print(read_integer())\n",
    "\n",
    "print(read_float())\n",
    "print(read_float())\n",
    "print(read_float())\n"
   ]
  },
  {
   "cell_type": "markdown",
   "id": "7fd0a99b-790c-4d8c-8100-ce2334ed1255",
   "metadata": {},
   "source": [
    "**Q3** Implement the `read_integers()` function. It should read a \\\n",
    "line from stdin, without printing anything, and return a list\\\n",
    " of integers. You may assume every line will be in the following format,\\\n",
    "  where the numbers are separated by commas: `1,2,3,4,5`\n"
   ]
  },
  {
   "cell_type": "code",
   "execution_count": 12,
   "id": "76aae724-8570-4b19-b922-0801b05570d1",
   "metadata": {},
   "outputs": [
    {
     "name": "stdin",
     "output_type": "stream",
     "text": [
      "enter your input:  1,2,3,4,5\n"
     ]
    },
    {
     "name": "stdout",
     "output_type": "stream",
     "text": [
      "['1', '2', '3', '4', '5']\n"
     ]
    },
    {
     "name": "stdin",
     "output_type": "stream",
     "text": [
      "enter your input:  4,6,3,1,65,2\n"
     ]
    },
    {
     "name": "stdout",
     "output_type": "stream",
     "text": [
      "['4', '6', '3', '1', '65', '2']\n"
     ]
    },
    {
     "name": "stdin",
     "output_type": "stream",
     "text": [
      "enter your input:  2,34,56,1324,4,0\n"
     ]
    },
    {
     "name": "stdout",
     "output_type": "stream",
     "text": [
      "['2', '34', '56', '1324', '4', '0']\n"
     ]
    }
   ],
   "source": [
    "from typing import List\n",
    "\n",
    "def read_integers():\n",
    "    user_input = input(\"enter your input: \")\n",
    "    my_list = user_input.split(\",\")\n",
    "    return my_list\n",
    "# do not modify the code below\n",
    "print(read_integers())\n",
    "print(read_integers())\n",
    "print(read_integers())"
   ]
  },
  {
   "cell_type": "markdown",
   "id": "a03207cc",
   "metadata": {},
   "source": [
    "**Q4** Implement the function `add_two_numbers()`. It doesn't have\\\n",
    " any parameters because you will be reading from `stdin`. The\\\n",
    "  function should read one line from stdin, which contains\\\n",
    "   two integers separated by a comma. The function should \\\n",
    "   return the sum of the two integers.\n",
    "\n",
    "The stdin to your program will be:\\\n",
    "\n",
    "1,2\\\n",
    "3,4\\\n",
    "10,25\\\n",
    "1032,1272\\"
   ]
  },
  {
   "cell_type": "code",
   "execution_count": null,
   "id": "3dcdb89a",
   "metadata": {},
   "outputs": [
    {
     "name": "stdin",
     "output_type": "stream",
     "text": [
      "enter your input:  1,1\n"
     ]
    },
    {
     "name": "stdout",
     "output_type": "stream",
     "text": [
      "11\n"
     ]
    },
    {
     "name": "stdin",
     "output_type": "stream",
     "text": [
      "enter your input:  2,5\n"
     ]
    },
    {
     "name": "stdout",
     "output_type": "stream",
     "text": [
      "25\n"
     ]
    }
   ],
   "source": [
    "def add_two_numbers() :\n",
    "    user_input = input(\"enter your input: \")\n",
    "    my_list = user_input.split(\",\")\n",
    "    return my_list[0] + my_list[1]\n",
    "\n",
    "\n",
    "\n",
    "# do not modify below this line\n",
    "print(add_two_numbers())\n",
    "print(add_two_numbers())\n",
    "print(add_two_numbers())\n",
    "print(add_two_numbers())"
   ]
  }
 ],
 "metadata": {
  "kernelspec": {
   "display_name": "Python 3 (ipykernel)",
   "language": "python",
   "name": "python3"
  },
  "language_info": {
   "codemirror_mode": {
    "name": "ipython",
    "version": 3
   },
   "file_extension": ".py",
   "mimetype": "text/x-python",
   "name": "python",
   "nbconvert_exporter": "python",
   "pygments_lexer": "ipython3",
   "version": "3.12.4"
  }
 },
 "nbformat": 4,
 "nbformat_minor": 5
}
